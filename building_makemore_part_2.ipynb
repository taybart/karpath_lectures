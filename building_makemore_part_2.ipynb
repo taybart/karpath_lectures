{
 "cells": [
  {
   "cell_type": "code",
   "execution_count": 12,
   "id": "49e64f75",
   "metadata": {},
   "outputs": [],
   "source": [
    "import torch\n",
    "import torch.nn.functional as F\n",
    "import matplotlib.pyplot as plt\n",
    "%matplotlib inline"
   ]
  },
  {
   "cell_type": "code",
   "execution_count": 13,
   "id": "bfb852e6",
   "metadata": {},
   "outputs": [],
   "source": [
    "words = open('names.txt', 'r').read().splitlines()"
   ]
  },
  {
   "cell_type": "code",
   "execution_count": 14,
   "id": "bb177197",
   "metadata": {},
   "outputs": [],
   "source": [
    "chars = sorted(list(set(''.join(words))))\n",
    "stoi = {s: i + 1 for i, s in enumerate(chars)}\n",
    "stoi['.'] = 0\n",
    "itos = {i: s for s, i in stoi.items()}"
   ]
  },
  {
   "cell_type": "code",
   "execution_count": null,
   "id": "d55b941f",
   "metadata": {},
   "outputs": [],
   "source": [
    "'''\n",
    "# Three inputs embedded in a 2D space are fed to tanh as the hidden layer and softmax'd\n",
    "# X is our vocabulary of block_size tokens\n",
    "C[X] ->\n",
    "C[X] -> tanh -> softmax\n",
    "C[X] ->\n",
    "'''"
   ]
  },
  {
   "cell_type": "code",
   "execution_count": 15,
   "id": "44e34fbd",
   "metadata": {},
   "outputs": [],
   "source": [
    "block_size = 3 # context length; how many characters do we take to predict the next one?\n",
    "X, Y = [], []\n",
    "for w in words[:5]:\n",
    "    context = [0] * block_size\n",
    "    for ch in w + '.':\n",
    "        ix = stoi[ch]\n",
    "        X.append(context)\n",
    "        Y.append(ix)\n",
    "        context = context[1:] + [ix]\n",
    "X = torch.tensor(X)\n",
    "Y = torch.tensor(Y)"
   ]
  },
  {
   "cell_type": "code",
   "execution_count": 16,
   "id": "ab9deb5f",
   "metadata": {},
   "outputs": [],
   "source": [
    "C = torch.randn((27,2)) # embedding, 27 chars to 2D space"
   ]
  },
  {
   "cell_type": "code",
   "execution_count": 23,
   "id": "3e1f2a85",
   "metadata": {},
   "outputs": [],
   "source": [
    "emb = C[X]"
   ]
  },
  {
   "cell_type": "code",
   "execution_count": 25,
   "id": "a20593cf",
   "metadata": {},
   "outputs": [],
   "source": [
    "W1 = torch.randn((6,100)) # tanh step, 6 inputs come from C * 3 (which have 2 outputs)\n",
    "b1 = torch.randn(100) # biases middle layer"
   ]
  },
  {
   "cell_type": "code",
   "execution_count": 26,
   "id": "0111e029",
   "metadata": {},
   "outputs": [
    {
     "data": {
      "text/plain": [
       "tensor([[ 1.3262,  1.8585,  0.6029,  ...,  1.3953,  0.7673, -1.2895],\n",
       "        [ 2.2806,  2.4639, -0.2559,  ...,  2.5425,  1.5950, -1.7512],\n",
       "        [ 0.5651,  0.8068,  1.2087,  ..., -4.3626, -1.8397, -2.6817],\n",
       "        ...,\n",
       "        [ 4.6168,  1.6199,  1.7261,  ..., -1.8739,  1.0311, -0.2740],\n",
       "        [-3.2889,  0.7327,  0.9379,  ..., -2.2243, -2.7373,  3.8506],\n",
       "        [ 2.7380, -4.6509,  3.7723,  ...,  0.9586,  3.3202,  0.4409]])"
      ]
     },
     "execution_count": 26,
     "metadata": {},
     "output_type": "execute_result"
    }
   ],
   "source": [
    "# torch.cat(emb[:, 0, :],emb[:, 1, :],emb[:, 2, :],1)\n",
    "# torch.cat(torch.unbind(emb, 1)) # cat is slow\n",
    "# emb.view(32,6) <- fastest\n",
    "# emb.view(emb.shape[0], 6) @ W1 + b1\n",
    "emb.view(-1, 6) @ W1 + b1"
   ]
  },
  {
   "cell_type": "code",
   "execution_count": 28,
   "id": "adc9dbaa",
   "metadata": {},
   "outputs": [],
   "source": [
    "h = torch.tanh(emb.view(-1,6) @ W1 + b1) # careful about broadcasting the + b1"
   ]
  },
  {
   "cell_type": "code",
   "execution_count": 29,
   "id": "bf911f67",
   "metadata": {},
   "outputs": [],
   "source": [
    "W2 = torch.randn((100,27))\n",
    "b2 = torch.randn(27)"
   ]
  },
  {
   "cell_type": "code",
   "execution_count": 30,
   "id": "45dffe9a",
   "metadata": {},
   "outputs": [],
   "source": [
    "logits = h @ W2 + b2"
   ]
  },
  {
   "cell_type": "code",
   "execution_count": 32,
   "id": "6fbcef1e",
   "metadata": {},
   "outputs": [],
   "source": [
    "# softmax\n",
    "counts = logits.exp()\n",
    "prob = counts / counts.sum(1, keepdim=True)"
   ]
  },
  {
   "cell_type": "code",
   "execution_count": 36,
   "id": "3ca0b387",
   "metadata": {},
   "outputs": [
    {
     "data": {
      "text/plain": [
       "tensor(14.9938)"
      ]
     },
     "execution_count": 36,
     "metadata": {},
     "output_type": "execute_result"
    }
   ],
   "source": [
    "loss = -prob[torch.arange(32), Y].log().mean()\n",
    "loss"
   ]
  },
  {
   "cell_type": "code",
   "execution_count": 128,
   "id": "78b4b9f3",
   "metadata": {},
   "outputs": [],
   "source": [
    "## Cleaned up\n",
    "\n",
    "def build_dataset(words):\n",
    "    block_size = 3 # context length; how many characters do we take to predict the next one?\n",
    "    X, Y = [], []\n",
    "    for w in words:\n",
    "        context = [0] * block_size\n",
    "        for ch in w + '.':\n",
    "            ix = stoi[ch]\n",
    "            X.append(context)\n",
    "            Y.append(ix)\n",
    "            context = context[1:] + [ix]\n",
    "\n",
    "    X = torch.tensor(X)\n",
    "    Y = torch.tensor(Y)\n",
    "    return X, Y\n",
    "\n",
    "import random\n",
    "random.seed(42)\n",
    "random.shuffle(words)\n",
    "n1 = int(0.8*len(words))\n",
    "n2 = int(0.9*len(words))\n",
    "\n",
    "Xtr, Ytr = build_dataset(words[:n1])\n",
    "Xdev, Ydev = build_dataset(words[n1:n2])\n",
    "Xte, Yte = build_dataset(words[n2:])"
   ]
  },
  {
   "cell_type": "code",
   "execution_count": 129,
   "id": "42a6d96c",
   "metadata": {},
   "outputs": [],
   "source": [
    "embedding_size = 30\n",
    "g = torch.Generator().manual_seed(2147483647)\n",
    "C = torch.randn((27,10), generator=g)\n",
    "W1 = torch.randn((embedding_size,200), generator=g)\n",
    "b1 = torch.randn(200, generator=g)\n",
    "W2 = torch.randn((200,27), generator=g)\n",
    "b2 = torch.randn(27, generator=g)\n",
    "parameters = [C, W1, b1, W2, b2]"
   ]
  },
  {
   "cell_type": "code",
   "execution_count": 130,
   "id": "c3f982b3",
   "metadata": {},
   "outputs": [],
   "source": [
    "for p in parameters:\n",
    "    p.requires_grad = True"
   ]
  },
  {
   "cell_type": "markdown",
   "id": "4b8a5881",
   "metadata": {},
   "source": []
  },
  {
   "cell_type": "code",
   "execution_count": 131,
   "id": "0c06a1f6",
   "metadata": {},
   "outputs": [],
   "source": [
    "lossi = []\n",
    "stepi = []"
   ]
  },
  {
   "cell_type": "code",
   "execution_count": 140,
   "id": "ba96b253",
   "metadata": {},
   "outputs": [],
   "source": [
    "for i in range(50000):\n",
    "\n",
    "    # construct batch\n",
    "    ix = torch.randint(0, Xtr.shape[0],(32,))\n",
    "    # forward pass\n",
    "    emb = C[Xtr[ix]] # (32, 3, 2)\n",
    "    h = torch.tanh(emb.view(-1, embedding_size) @ W1 + b1) # (32, 100)\n",
    "    logits = h @ W2 + b2 # (32, 27)\n",
    "    loss = F.cross_entropy(logits, Ytr[ix])\n",
    "\n",
    "    # backward pass\n",
    "    for p in parameters:\n",
    "        p.grad = None\n",
    "    loss.backward()\n",
    "\n",
    "    # update\n",
    "    learning_rate = 0.01\n",
    "    for p in parameters:\n",
    "        p.data += -learning_rate * p.grad\n",
    "    \n",
    "    #stats\n",
    "    stepi.append(i)\n",
    "    lossi.append(loss.log10().item())\n"
   ]
  },
  {
   "cell_type": "code",
   "execution_count": 141,
   "id": "fab4a5cc",
   "metadata": {},
   "outputs": [
    {
     "data": {
      "text/plain": [
       "[<matplotlib.lines.Line2D at 0x299f6e4d0>]"
      ]
     },
     "execution_count": 141,
     "metadata": {},
     "output_type": "execute_result"
    },
    {
     "data": {
      "image/png": "[encoded data removed]",
      "text/plain": [
       "<Figure size 640x480 with 1 Axes>"
      ]
     },
     "metadata": {},
     "output_type": "display_data"
    }
   ],
   "source": [
    "plt.plot(stepi, lossi)"
   ]
  },
  {
   "cell_type": "code",
   "execution_count": 142,
   "id": "eeab042a",
   "metadata": {},
   "outputs": [
    {
     "name": "stdout",
     "output_type": "stream",
     "text": [
      "2.170982599258423\n"
     ]
    }
   ],
   "source": [
    "# full model loss (training)\n",
    "emb = C[Xtr] # (32, 3, 2)\n",
    "h = torch.tanh(emb.view(-1, embedding_size) @ W1 + b1) # (32, 100)\n",
    "logits = h @ W2 + b2 # (32, 27)\n",
    "loss = F.cross_entropy(logits, Ytr)\n",
    "print(loss.item())"
   ]
  },
  {
   "cell_type": "code",
   "execution_count": 143,
   "id": "096a1b92",
   "metadata": {},
   "outputs": [
    {
     "name": "stdout",
     "output_type": "stream",
     "text": [
      "2.2156341075897217\n"
     ]
    }
   ],
   "source": [
    "# full model loss (dev), if training and dev losses are similar the model is too simple\n",
    "emb = C[Xdev] # (32, 3, 2)\n",
    "h = torch.tanh(emb.view(-1, embedding_size) @ W1 + b1) # (32, 100)\n",
    "logits = h @ W2 + b2 # (32, 27)\n",
    "loss = F.cross_entropy(logits, Ydev)\n",
    "print(loss.item())"
   ]
  },
  {
   "cell_type": "code",
   "execution_count": 144,
   "id": "8a3357f2",
   "metadata": {},
   "outputs": [
    {
     "name": "stdout",
     "output_type": "stream",
     "text": [
      "gostyn.\n",
      "povahnadiya.\n",
      "emmilan.\n",
      "reya.\n",
      "zolin.\n",
      "ashik.\n",
      "pranhanton.\n",
      "ale.\n",
      "alechandy.\n",
      "kayden.\n",
      "aire.\n",
      "jordie.\n",
      "niu.\n",
      "enna.\n",
      "kocha.\n",
      "tyhcti.\n",
      "kyn.\n",
      "divian.\n",
      "dell.\n",
      "ceari.\n"
     ]
    }
   ],
   "source": [
    "block_size = 3\n",
    "for _ in range(20):\n",
    "    out = []\n",
    "    context = [0] * block_size\n",
    "    while True:\n",
    "        emb = C[torch.tensor([context])]\n",
    "        h = torch.tanh(emb.view(-1, embedding_size) @ W1 + b1) # (32, 100)\n",
    "        logits = h @ W2 + b2 # (32, 27)\n",
    "        probs = F.softmax(logits, dim=1)\n",
    "        ix = torch.multinomial(probs, num_samples=1).item()\n",
    "        context = context[1:]+ [ix]\n",
    "        out.append(ix)\n",
    "        if ix == 0:\n",
    "            break\n",
    "    print(''.join(itos[i] for i in out))"
   ]
  },
  {
   "cell_type": "code",
   "execution_count": null,
   "id": "c8a0576a",
   "metadata": {},
   "outputs": [],
   "source": [
    "# training split, dev/validation split, test split\n",
    "# 80%, 10%, 10%"
   ]
  }
 ],
 "metadata": {
  "kernelspec": {
   "display_name": "Python 3 (ipykernel)",
   "language": "python",
   "name": "python3"
  },
  "language_info": {
   "codemirror_mode": {
    "name": "ipython",
    "version": 3
   },
   "file_extension": ".py",
   "mimetype": "text/x-python",
   "name": "python",
   "nbconvert_exporter": "python",
   "pygments_lexer": "ipython3",
   "version": "3.10.7"
  }
 },
 "nbformat": 4,
 "nbformat_minor": 5
}
