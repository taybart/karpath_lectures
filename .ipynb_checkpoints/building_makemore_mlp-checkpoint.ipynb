{
 "cells": [
  {
   "cell_type": "code",
   "execution_count": 12,
   "id": "77465394",
   "metadata": {},
   "outputs": [],
   "source": [
    "import torch\n",
    "import torch.nn.functional as F\n",
    "import matplotlib.pyplot as plt\n",
    "%matplotlib inline"
   ]
  },
  {
   "cell_type": "code",
   "execution_count": 13,
   "id": "666c38a0",
   "metadata": {},
   "outputs": [],
   "source": [
    "words = open('names.txt', 'r').read().splitlines()"
   ]
  },
  {
   "cell_type": "code",
   "execution_count": 14,
   "id": "5cddbccd",
   "metadata": {},
   "outputs": [],
   "source": [
    "chars = sorted(list(set(''.join(words))))\n",
    "stoi = {s: i + 1 for i, s in enumerate(chars)}\n",
    "stoi['.'] = 0\n",
    "itos = {i: s for s, i in stoi.items()}"
   ]
  },
  {
   "cell_type": "code",
   "execution_count": null,
   "id": "b6de1038",
   "metadata": {},
   "outputs": [],
   "source": [
    "'''\n",
    "# Three inputs embedded in a 2D space are fed to tanh as the hidden layer and softmax'd\n",
    "# X is our vocabulary of block_size tokens\n",
    "C[X] ->\n",
    "C[X] -> tanh -> softmax\n",
    "C[X] ->\n",
    "'''"
   ]
  },
  {
   "cell_type": "code",
   "execution_count": 15,
   "id": "99d8878c",
   "metadata": {},
   "outputs": [],
   "source": [
    "block_size = 3 # context length; how many characters do we take to predict the next one?\n",
    "X, Y = [], []\n",
    "for w in words[:5]:\n",
    "    context = [0] * block_size\n",
    "    for ch in w + '.':\n",
    "        ix = stoi[ch]\n",
    "        X.append(context)\n",
    "        Y.append(ix)\n",
    "        context = context[1:] + [ix]\n",
    "X = torch.tensor(X)\n",
    "Y = torch.tensor(Y)"
   ]
  },
  {
   "cell_type": "code",
   "execution_count": 16,
   "id": "997bea0e",
   "metadata": {},
   "outputs": [],
   "source": [
    "C = torch.randn((27,2)) # embedding, 27 chars to 2D space"
   ]
  },
  {
   "cell_type": "code",
   "execution_count": 23,
   "id": "8a3495c9",
   "metadata": {},
   "outputs": [],
   "source": [
    "emb = C[X]"
   ]
  },
  {
   "cell_type": "code",
   "execution_count": 25,
   "id": "b6e94b5d",
   "metadata": {},
   "outputs": [],
   "source": [
    "W1 = torch.randn((6,100)) # tanh step, 6 inputs come from C * 3 (which have 2 outputs)\n",
    "b1 = torch.randn(100) # biases middle layer"
   ]
  },
  {
   "cell_type": "code",
   "execution_count": 26,
   "id": "d681cb3b",
   "metadata": {},
   "outputs": [
    {
     "data": {
      "text/plain": [
       "tensor([[ 1.3262,  1.8585,  0.6029,  ...,  1.3953,  0.7673, -1.2895],\n",
       "        [ 2.2806,  2.4639, -0.2559,  ...,  2.5425,  1.5950, -1.7512],\n",
       "        [ 0.5651,  0.8068,  1.2087,  ..., -4.3626, -1.8397, -2.6817],\n",
       "        ...,\n",
       "        [ 4.6168,  1.6199,  1.7261,  ..., -1.8739,  1.0311, -0.2740],\n",
       "        [-3.2889,  0.7327,  0.9379,  ..., -2.2243, -2.7373,  3.8506],\n",
       "        [ 2.7380, -4.6509,  3.7723,  ...,  0.9586,  3.3202,  0.4409]])"
      ]
     },
     "execution_count": 26,
     "metadata": {},
     "output_type": "execute_result"
    }
   ],
   "source": [
    "# torch.cat(emb[:, 0, :],emb[:, 1, :],emb[:, 2, :],1)\n",
    "# torch.cat(torch.unbind(emb, 1)) # cat is slow\n",
    "# emb.view(32,6) <- fastest\n",
    "# emb.view(emb.shape[0], 6) @ W1 + b1\n",
    "emb.view(-1, 6) @ W1 + b1"
   ]
  },
  {
   "cell_type": "code",
   "execution_count": 28,
   "id": "bc00b1b6",
   "metadata": {},
   "outputs": [],
   "source": [
    "h = torch.tanh(emb.view(-1,6) @ W1 + b1) # careful about broadcasting the + b1"
   ]
  },
  {
   "cell_type": "code",
   "execution_count": 29,
   "id": "482123f3",
   "metadata": {},
   "outputs": [],
   "source": [
    "W2 = torch.randn((100,27))\n",
    "b2 = torch.randn(27)"
   ]
  },
  {
   "cell_type": "code",
   "execution_count": 30,
   "id": "95986758",
   "metadata": {},
   "outputs": [],
   "source": [
    "logits = h @ W2 + b2"
   ]
  },
  {
   "cell_type": "code",
   "execution_count": 32,
   "id": "929e636a",
   "metadata": {},
   "outputs": [],
   "source": [
    "# softmax\n",
    "counts = logits.exp()\n",
    "prob = counts / counts.sum(1, keepdim=True)"
   ]
  },
  {
   "cell_type": "code",
   "execution_count": 36,
   "id": "bb05ecef",
   "metadata": {},
   "outputs": [
    {
     "data": {
      "text/plain": [
       "tensor(14.9938)"
      ]
     },
     "execution_count": 36,
     "metadata": {},
     "output_type": "execute_result"
    }
   ],
   "source": [
    "loss = -prob[torch.arange(32), Y].log().mean()\n",
    "loss"
   ]
  },
  {
   "cell_type": "code",
   "execution_count": 85,
   "id": "9a777424",
   "metadata": {},
   "outputs": [],
   "source": [
    "## Cleaned up\n",
    "\n",
    "def build_dataset(words):\n",
    "    block_size = 3 # context length; how many characters do we take to predict the next one?\n",
    "    X, Y = [], []\n",
    "    for w in words:\n",
    "        context = [0] * block_size\n",
    "        for ch in w + '.':\n",
    "            ix = stoi[ch]\n",
    "            X.append(context)\n",
    "            Y.append(ix)\n",
    "            context = context[1:] + [ix]\n",
    "\n",
    "    X = torch.tensor(X)\n",
    "    Y = torch.tensor(Y)\n",
    "    return X, Y\n",
    "\n",
    "import random\n",
    "random.seed(42)\n",
    "random.shuffle(words)\n",
    "n1 = int(0.8*len(words))\n",
    "n2 = int(0.9*len(words))\n",
    "\n",
    "Xtr, Ytr = build_dataset(words[:n1])\n",
    "Xdev, Ydev = build_dataset(words[n1:n2])\n",
    "Xte, Yte = build_dataset(words[n2:])"
   ]
  },
  {
   "cell_type": "code",
   "execution_count": 86,
   "id": "8fb3aa91",
   "metadata": {},
   "outputs": [],
   "source": [
    "g = torch.Generator().manual_seed(2147483647)\n",
    "C = torch.randn((27,2), generator=g)\n",
    "W1 = torch.randn((6,300), generator=g)\n",
    "b1 = torch.randn(300, generator=g)\n",
    "W2 = torch.randn((300,27), generator=g)\n",
    "b2 = torch.randn(27, generator=g)\n",
    "parameters = [C, W1, b1, W2, b2]"
   ]
  },
  {
   "cell_type": "code",
   "execution_count": 87,
   "id": "25c6436c",
   "metadata": {},
   "outputs": [],
   "source": [
    "for p in parameters:\n",
    "    p.requires_grad = True"
   ]
  },
  {
   "cell_type": "code",
   "execution_count": 94,
   "id": "eb9f576d",
   "metadata": {},
   "outputs": [],
   "source": [
    "learning_rate = 0.1\n",
    "for _ in range(10000):\n",
    "\n",
    "    # construct batch\n",
    "    ix = torch.randint(0, Xtr.shape[0],(32,))\n",
    "    # forward pass\n",
    "    emb = C[Xtr[ix]] # (32, 3, 2)\n",
    "    h = torch.tanh(emb.view(-1,6) @ W1 + b1) # (32, 100)\n",
    "    logits = h @ W2 + b2 # (32, 27)\n",
    "    loss = F.cross_entropy(logits, Ytr[ix])\n",
    "\n",
    "    # backward pass\n",
    "    for p in parameters:\n",
    "        p.grad = None\n",
    "    loss.backward()\n",
    "\n",
    "    # update\n",
    "    for p in parameters:\n",
    "        p.data += -learning_rate * p.grad\n"
   ]
  },
  {
   "cell_type": "code",
   "execution_count": 95,
   "id": "d2bbc019",
   "metadata": {},
   "outputs": [
    {
     "name": "stdout",
     "output_type": "stream",
     "text": [
      "2.5061094760894775\n"
     ]
    }
   ],
   "source": [
    "# full model loss (training)\n",
    "emb = C[Xdev] # (32, 3, 2)\n",
    "h = torch.tanh(emb.view(-1,6) @ W1 + b1) # (32, 100)\n",
    "logits = h @ W2 + b2 # (32, 27)\n",
    "loss = F.cross_entropy(logits, Ydev)\n",
    "print(loss.item())"
   ]
  },
  {
   "cell_type": "code",
   "execution_count": 96,
   "id": "4665425f",
   "metadata": {},
   "outputs": [
    {
     "name": "stdout",
     "output_type": "stream",
     "text": [
      "2.5061094760894775\n"
     ]
    }
   ],
   "source": [
    "# full model loss (dev), if training and dev losses are similar the model is too simple\n",
    "emb = C[Xdev] # (32, 3, 2)\n",
    "h = torch.tanh(emb.view(-1,6) @ W1 + b1) # (32, 100)\n",
    "logits = h @ W2 + b2 # (32, 27)\n",
    "loss = F.cross_entropy(logits, Ydev)\n",
    "print(loss.item())"
   ]
  },
  {
   "cell_type": "code",
   "execution_count": null,
   "id": "dfab1ca3",
   "metadata": {},
   "outputs": [],
   "source": [
    "# training split, dev/validation split, test split\n",
    "# 80%, 10%, 10%"
   ]
  }
 ],
 "metadata": {
  "kernelspec": {
   "display_name": "Python 3 (ipykernel)",
   "language": "python",
   "name": "python3"
  },
  "language_info": {
   "codemirror_mode": {
    "name": "ipython",
    "version": 3
   },
   "file_extension": ".py",
   "mimetype": "text/x-python",
   "name": "python",
   "nbconvert_exporter": "python",
   "pygments_lexer": "ipython3",
   "version": "3.10.7"
  }
 },
 "nbformat": 4,
 "nbformat_minor": 5
}
